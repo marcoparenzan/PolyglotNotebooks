{
 "cells": [
  {
   "cell_type": "markdown",
   "metadata": {
    "dotnet_interactive": {
     "language": "csharp"
    },
    "polyglot_notebook": {
     "kernelName": "csharp"
    }
   },
   "source": [
    "Exercise: count words in text from https://baconipsum.com/api/?type=meat-and-filler&paras=10&format=text\n",
    "==="
   ]
  },
  {
   "cell_type": "code",
   "execution_count": 4,
   "metadata": {
    "dotnet_interactive": {
     "language": "csharp"
    },
    "polyglot_notebook": {
     "kernelName": "csharp"
    },
    "vscode": {
     "languageId": "polyglot-notebook"
    }
   },
   "outputs": [],
   "source": [
    "var url = \"https://baconipsum.com/api/?type=meat-and-filler&paras=20&format=text\";"
   ]
  },
  {
   "cell_type": "code",
   "execution_count": 5,
   "metadata": {
    "dotnet_interactive": {
     "language": "csharp"
    },
    "polyglot_notebook": {
     "kernelName": "csharp"
    },
    "vscode": {
     "languageId": "polyglot-notebook"
    }
   },
   "outputs": [
    {
     "data": {
      "text/plain": [
       "https://baconipsum.com/api/?type=meat-and-filler&paras=20&format=text"
      ]
     },
     "metadata": {},
     "output_type": "display_data"
    }
   ],
   "source": [
    "url"
   ]
  },
  {
   "cell_type": "code",
   "execution_count": 6,
   "metadata": {
    "dotnet_interactive": {
     "language": "csharp"
    },
    "polyglot_notebook": {
     "kernelName": "csharp"
    },
    "vscode": {
     "languageId": "polyglot-notebook"
    }
   },
   "outputs": [],
   "source": [
    "using System.Net.Http;"
   ]
  },
  {
   "cell_type": "markdown",
   "metadata": {
    "dotnet_interactive": {
     "language": "csharp"
    },
    "polyglot_notebook": {
     "kernelName": "csharp"
    }
   },
   "source": [
    "ricordarsi di usare using"
   ]
  },
  {
   "cell_type": "code",
   "execution_count": 7,
   "metadata": {
    "dotnet_interactive": {
     "language": "csharp"
    },
    "polyglot_notebook": {
     "kernelName": "csharp"
    },
    "vscode": {
     "languageId": "polyglot-notebook"
    }
   },
   "outputs": [],
   "source": [
    "var client = new HttpClient();"
   ]
  },
  {
   "cell_type": "code",
   "execution_count": 8,
   "metadata": {
    "dotnet_interactive": {
     "language": "csharp"
    },
    "polyglot_notebook": {
     "kernelName": "csharp"
    },
    "vscode": {
     "languageId": "polyglot-notebook"
    }
   },
   "outputs": [],
   "source": [
    "var text = await client.GetStringAsync(url);"
   ]
  },
  {
   "cell_type": "code",
   "execution_count": 9,
   "metadata": {
    "dotnet_interactive": {
     "language": "csharp"
    },
    "polyglot_notebook": {
     "kernelName": "csharp"
    },
    "vscode": {
     "languageId": "polyglot-notebook"
    }
   },
   "outputs": [
    {
     "data": {
      "text/plain": [
       "Velit venison t-bone deserunt enim laboris.  In dolore aute minim nostrud jerky jowl officia frankfurter sed hamburger id ullamco.  Tempor laborum tenderloin laboris turkey salami filet mignon shoulder sunt sausage ad.  Laboris duis tenderloin porchetta rump, venison sunt turkey chislic andouille eiusmod in commodo.\n",
       "\n",
       "Burgdoggen ex chislic, prosciutto chicken ribeye ground round ut ut.  Cow culpa enim do.  Pastrami laboris brisket qui strip steak, capicola flank sint leberkas in fatback landjaeger pork loin.  Ex filet mignon tenderloin pastrami porchetta turkey id deserunt exercitation consectetur ut laboris bacon.  Meatball sausage elit pork belly ullamco ut.  Culpa fatback ipsum, irure non eu pork loin enim anim ut jerky et ea.\n",
       "\n",
       "Enim veniam beef filet mignon eu kevin ground round t-bone swine.  Labore culpa kevin laboris, irure enim andouille tail.  Nisi ribeye pork belly duis, mollit bresaola chuck eiusmod sausage adipisicing veniam dolor sint.  Pork loin beef ribs ball tip pork belly fugiat biltong boudin leberkas nisi.  Laboris ham hock voluptate short loin t-bone fugiat fatback prosciutto.  Jowl chuck andouille, ea flank commodo ut adipisicing ham capicola ut fugiat.\n",
       "\n",
       "Pork chop beef ribs ipsum, filet mignon porchetta prosciutto alcatra strip steak.  Turducken strip steak shankle ball tip tenderloin, enim corned beef voluptate eiusmod hamburger quis.  Aliqua meatloaf adipisicing nisi qui ea turkey laboris corned beef sed eu quis.  Shankle short loin aliquip sed, tongue ball tip id consectetur short ribs meatball bresaola.  Chuck mollit pariatur adipisicing filet mignon.\n",
       "\n",
       "Leberkas meatball picanha occaecat meatloaf in.  Quis in ham frankfurter, adipisicing picanha tail esse biltong bresaola ullamco.  Officia nostrud reprehenderit, anim chicken laborum ham hock burgdoggen dolore picanha venison cupim short ribs.  Fatback tenderloin consectetur proident mollit brisket anim meatball elit in cillum.  Chuck qui ham hock sed, elit eiusmod alcatra pariatur cillum jerky dolore.  Rump eu turkey prosciutto meatloaf sausage aute corned beef veniam pancetta eiusmod.\n",
       "\n",
       "Chislic laborum ut deserunt, aute shank ex quis laboris.  Aliquip frankfurter boudin, biltong enim eiusmod anim.  Non hamburger ground round flank porchetta.  Aliquip pork belly anim ex ipsum turducken kevin magna ut enim in pariatur meatball.\n",
       "\n",
       "Boudin dolore proident magna capicola meatball eiusmod cupidatat ribeye jerky sint cillum.  Ribeye eiusmod ham pork belly cillum pariatur qui alcatra.  Tenderloin filet mignon bresaola, occaecat tri-tip meatball burgdoggen picanha in strip steak.  Shank pork loin ground round voluptate, commodo bacon aliqua capicola tri-tip turducken ipsum do spare ribs.  Nulla ea jerky jowl frankfurter in, pork belly minim cillum shankle.  Tenderloin ground round buffalo dolore boudin burgdoggen, filet mignon shoulder deserunt frankfurter ribeye chislic sirloin.\n",
       "\n",
       "Pork loin aute meatloaf sirloin ad.  Cupidatat nulla short ribs aliquip, biltong in adipisicing cillum exercitation chicken cow pork chop culpa strip steak.  T-bone burgdoggen excepteur, nostrud swine pork chop dolor culpa.  Consectetur pancetta pig, tempor beef kielbasa kevin tri-tip salami rump occaecat laborum short loin ribeye duis.  T-bone cillum beef ribs chuck pork chop short loin pariatur ham hock fugiat aute buffalo.\n",
       "\n",
       "Laborum beef ut ham hock aute id excepteur jerky dolore consequat cupim biltong.  Chuck ham hock kielbasa, nisi cupidatat spare ribs commodo cupim et deserunt picanha.  Filet mignon ipsum chislic voluptate.  Frankfurter jerky culpa, prosciutto leberkas est nisi dolor in.  Turkey jowl et cupidatat magna sed ex drumstick.\n",
       "\n",
       "Shankle nisi duis pariatur.  Ex culpa shank, sirloin t-bone leberkas sed in deserunt sausage do burgdoggen ribeye andouille.  Proident consectetur in fugiat sint.  Short loin proident beef ribs boudin.\n",
       "\n",
       "Filet mignon turducken reprehenderit, beef ribs dolore leberkas chislic ball tip pig anim lorem.  Alcatra cillum ex, et picanha porchetta tenderloin do fugiat.  Incididunt irure eiusmod, mollit exercitation ham flank pig in in ut tail aliquip short ribs.  Culpa buffalo t-bone alcatra chicken, non occaecat rump ex shoulder excepteur shankle biltong.  Drumstick shoulder consequat frankfurter venison bresaola tri-tip minim aliqua et jerky.\n",
       "\n",
       "Consectetur turkey shoulder, elit officia biltong chicken mollit do dolore eu sunt salami cupidatat aliquip.  Chuck exercitation filet mignon, ea picanha ut qui lorem ball tip et hamburger kielbasa beef andouille alcatra.  Shankle t-bone alcatra, biltong sunt dolore occaecat cupim ham doner brisket ipsum consectetur.  Burgdoggen tempor aliqua exercitation enim veniam chislic boudin.  Tail eiusmod corned beef bresaola strip steak duis.  Nulla minim adipisicing, lorem in tenderloin labore ipsum.\n",
       "\n",
       "Cow tri-tip corned beef est ham dolor ipsum nisi strip steak prosciutto tail.  Dolore ea aliqua lorem cillum tenderloin.  Ribeye shank ea laborum, chicken landjaeger ullamco ball tip pig frankfurter.  Voluptate tongue tempor fugiat, exercitation reprehenderit sed elit meatball fatback sunt chislic.  Duis short loin t-bone alcatra lorem cupidatat landjaeger eu beef bacon.\n",
       "\n",
       "Chicken ut commodo qui incididunt ad sint.  Pork consequat drumstick, landjaeger chuck sed shankle ground round.  Excepteur sint pig exercitation veniam.  Irure biltong cillum consectetur ut reprehenderit.  Id voluptate picanha, ut tongue fugiat eiusmod consequat reprehenderit andouille.  Leberkas velit incididunt ex burgdoggen shoulder sunt meatball nisi.\n",
       "\n",
       "Quis aute jerky tongue, consequat in frankfurter.  Ipsum swine ut short loin eiusmod hamburger nisi prosciutto.  Sirloin adipisicing corned beef, pastrami capicola velit eiusmod pork loin biltong shank.  Nulla cillum sint, ground round fugiat porchetta exercitation.  Magna adipisicing nulla, shankle picanha esse nostrud meatball tail drumstick.  Anim tongue esse excepteur, quis brisket drumstick buffalo prosciutto shoulder dolore.\n",
       "\n",
       "Filet mignon alcatra eu meatloaf qui aliqua, culpa venison deserunt leberkas tongue ut ham hock.  Venison biltong fugiat, laborum veniam nisi incididunt ea filet mignon consectetur officia pork belly shankle enim.  Eu do eiusmod, lorem cupim beef ribs ex aliquip tenderloin nostrud fugiat excepteur pastrami boudin nisi.  Non magna doner picanha consequat officia frankfurter id porchetta strip steak lorem rump est.  Meatball ad excepteur aliquip, anim ex fatback tri-tip cow sint alcatra drumstick.  Beef ut ad flank quis.\n",
       "\n",
       "Prosciutto ribeye pariatur pastrami pork loin nisi est incididunt id drumstick minim brisket.  Esse swine jerky porchetta in rump.  Ad andouille frankfurter turducken, meatball aliqua adipisicing hamburger.  Eiusmod dolore turducken corned beef, turkey adipisicing meatloaf in.  Deserunt kevin pork beef ribs filet mignon doner rump cow.\n",
       "\n",
       "Ham enim meatball quis sirloin tri-tip, swine cupim.  Voluptate nulla ex bacon, ut sirloin jowl lorem kevin shankle.  Adipisicing kielbasa ut short loin dolore sausage salami biltong occaecat shoulder dolor.  Sint culpa landjaeger chislic meatball do fugiat aute ut cow short loin.  Jerky pork belly andouille bresaola tongue strip steak culpa.  Velit drumstick ea spare ribs prosciutto, voluptate tail filet mignon ham.\n",
       "\n",
       "Nostrud fatback occaecat, doner leberkas ut kielbasa ribeye laboris tri-tip.  Qui incididunt do dolore reprehenderit elit ham deserunt anim kevin est.  Picanha ground round capicola elit chislic sausage turkey chicken lorem id cupidatat biltong.  Pariatur qui aliqua, ut chislic aliquip proident enim ut sed drumstick meatball pork loin ribeye duis.  In short ribs consectetur venison deserunt kevin aliqua turkey do anim drumstick ground round ut andouille.  Est short loin ea ex, beef aliqua commodo frankfurter ham.  Burgdoggen fugiat shoulder tenderloin beef, fatback cupidatat occaecat capicola tongue landjaeger swine.\n",
       "\n",
       "Quis sed lorem bresaola turkey magna.  Ad mollit biltong, eu nisi pork loin corned beef non picanha officia kevin.  Ball tip nulla buffalo exercitation turducken porchetta pastrami frankfurter.  Fugiat esse commodo shank eu, qui sed pig incididunt sirloin non sint ham hock.  Tongue jerky ut, quis non shankle sint short loin sirloin tail hamburger shank.  Short loin esse consectetur picanha commodo duis reprehenderit salami."
      ]
     },
     "metadata": {},
     "output_type": "display_data"
    }
   ],
   "source": [
    "text"
   ]
  },
  {
   "cell_type": "code",
   "execution_count": 10,
   "metadata": {
    "dotnet_interactive": {
     "language": "csharp"
    },
    "polyglot_notebook": {
     "kernelName": "csharp"
    },
    "vscode": {
     "languageId": "polyglot-notebook"
    }
   },
   "outputs": [],
   "source": [
    "System.IO.File.WriteAllText(@\"input\\input.txt\", text)"
   ]
  },
  {
   "cell_type": "code",
   "execution_count": 11,
   "metadata": {
    "dotnet_interactive": {
     "language": "csharp"
    },
    "polyglot_notebook": {
     "kernelName": "csharp"
    },
    "vscode": {
     "languageId": "polyglot-notebook"
    }
   },
   "outputs": [],
   "source": []
  },
  {
   "cell_type": "code",
   "execution_count": 12,
   "metadata": {
    "dotnet_interactive": {
     "language": "csharp"
    },
    "polyglot_notebook": {
     "kernelName": "csharp"
    },
    "vscode": {
     "languageId": "polyglot-notebook"
    }
   },
   "outputs": [],
   "source": []
  }
 ],
 "metadata": {
  "kernelspec": {
   "display_name": ".NET (C#)",
   "language": "C#",
   "name": ".net-csharp"
  },
  "polyglot_notebook": {
   "kernelInfo": {
    "defaultKernelName": "csharp",
    "items": [
     {
      "aliases": [
       "c#",
       "C#"
      ],
      "languageName": "C#",
      "name": "csharp"
     },
     {
      "aliases": [],
      "name": ".NET"
     },
     {
      "aliases": [
       "f#",
       "F#"
      ],
      "languageName": "F#",
      "name": "fsharp"
     },
     {
      "aliases": [],
      "languageName": "HTML",
      "name": "html"
     },
     {
      "aliases": [
       "js"
      ],
      "languageName": "JavaScript",
      "name": "javascript"
     },
     {
      "aliases": [],
      "languageName": "KQL",
      "name": "kql"
     },
     {
      "aliases": [],
      "languageName": "Mermaid",
      "name": "mermaid"
     },
     {
      "aliases": [
       "powershell"
      ],
      "languageName": "PowerShell",
      "name": "pwsh"
     },
     {
      "aliases": [],
      "languageName": "SQL",
      "name": "sql"
     },
     {
      "aliases": [],
      "name": "value"
     },
     {
      "aliases": [
       "frontend"
      ],
      "name": "vscode"
     },
     {
      "aliases": [],
      "name": "webview"
     }
    ]
   }
  }
 },
 "nbformat": 4,
 "nbformat_minor": 2
}
