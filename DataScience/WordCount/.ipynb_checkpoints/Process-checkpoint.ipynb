{
  "cells": [
    {
      "cell_type": "code",
      "execution_count": 1,
      "metadata": {
        "dotnet_interactive": {
          "language": "csharp"
        }
      },
      "source": [
        "#r \"nuget:Microsoft.Spark\""
      ],
      "outputs": []
    },
    {
      "cell_type": "code",
      "execution_count": 1,
      "metadata": {
        "dotnet_interactive": {
          "language": "csharp"
        }
      },
      "source": [
        "using System;\n",
        "using System.IO;\n",
        "using Microsoft.Spark;\n",
        "using Microsoft.Spark.Sql;"
      ],
      "outputs": []
    },
    {
      "cell_type": "code",
      "execution_count": 1,
      "metadata": {
        "dotnet_interactive": {
          "language": "csharp"
        }
      },
      "source": [
        "var inputFullPath = @\"input/input.txt\";\n",
        "//var outputName = Path.GetDirectoryName(\"output\");\n",
        "if (Directory.Exists(\"output\")) Directory.Delete(\"output\", true);"
      ],
      "outputs": []
    },
    {
      "cell_type": "code",
      "execution_count": 1,
      "metadata": {
        "dotnet_interactive": {
          "language": "csharp"
        }
      },
      "source": [
        "// Create a Spark session\n",
        "SparkSession spark = SparkSession\n",
        "    .Builder()\n",
        "    .AppName(\"word_count_sample\")\n",
        "    .GetOrCreate();\n",
        ""
      ],
      "outputs": []
    },
    {
      "cell_type": "code",
      "execution_count": 1,
      "metadata": {
        "dotnet_interactive": {
          "language": "csharp"
        }
      },
      "source": [
        "// Create initial DataFrame\n",
        "DataFrame dataFrame = spark.Read().Text(inputFullPath);\n",
        "dataFrame.PrintSchema();\n",
        ""
      ],
      "outputs": []
    },
    {
      "cell_type": "code",
      "execution_count": 1,
      "metadata": {
        "dotnet_interactive": {
          "language": "csharp"
        }
      },
      "source": [
        "// Count words\n",
        "DataFrame words = dataFrame\n",
        "    .Select(Functions.Split(Functions.Col(\"value\"), \" \").Alias(\"words\"))\n",
        "    .Select(Functions.Explode(Functions.Col(\"words\"))\n",
        "    .Alias(\"word\"))\n",
        "    .GroupBy(\"word\")\n",
        "    .Count()\n",
        "    .OrderBy(Functions.Col(\"count\").Desc());\n",
        ""
      ],
      "outputs": []
    },
    {
      "cell_type": "code",
      "execution_count": 1,
      "metadata": {
        "dotnet_interactive": {
          "language": "csharp"
        }
      },
      "source": [
        "// Show results\n",
        "words.Show(1000);"
      ],
      "outputs": []
    },
    {
      "cell_type": "code",
      "execution_count": 1,
      "metadata": {
        "dotnet_interactive": {
          "language": "csharp"
        }
      },
      "source": [
        "// Show results\n",
        "words.Show(1000);"
      ],
      "outputs": []
    },
    {
      "cell_type": "code",
      "execution_count": 1,
      "metadata": {
        "dotnet_interactive": {
          "language": "csharp"
        }
      },
      "source": [
        "// Stop Spark session\n",
        "spark.Stop();"
      ],
      "outputs": []
    }
  ],
  "metadata": {
    "kernelspec": {
      "display_name": ".NET (C#)",
      "language": "C#",
      "name": ".net-csharp"
    },
    "language_info": {
      "file_extension": ".cs",
      "mimetype": "text/x-csharp",
      "name": "C#",
      "pygments_lexer": "csharp",
      "version": "8.0"
    }
  },
  "nbformat": 4,
  "nbformat_minor": 4
}