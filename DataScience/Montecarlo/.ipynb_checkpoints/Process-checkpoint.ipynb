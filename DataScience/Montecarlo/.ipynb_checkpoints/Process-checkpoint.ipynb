{
  "cells": [
    {
      "cell_type": "code",
      "execution_count": 1,
      "metadata": {
        "dotnet_interactive": {
          "language": "csharp"
        }
      },
      "source": [
        "#r \"nuget:Microsoft.Spark\""
      ],
      "outputs": []
    },
    {
      "cell_type": "code",
      "execution_count": 1,
      "metadata": {
        "dotnet_interactive": {
          "language": "csharp"
        }
      },
      "source": [
        "using System;\n",
        "using System.IO;\n",
        "using Microsoft.Spark;\n",
        "using Microsoft.Spark.Sql;\n",
        "using static Microsoft.Spark.Sql.Functions;"
      ],
      "outputs": []
    },
    {
      "cell_type": "code",
      "execution_count": 1,
      "metadata": {
        "dotnet_interactive": {
          "language": "csharp"
        }
      },
      "source": [
        "long rows = 5_000_000_000;"
      ],
      "outputs": []
    },
    {
      "cell_type": "code",
      "execution_count": 1,
      "metadata": {
        "dotnet_interactive": {
          "language": "csharp"
        }
      },
      "source": [
        "// Create a Spark session\n",
        "SparkSession spark = SparkSession\n",
        "    .Builder()\n",
        "    .AppName(\"montecarlo\")\n",
        "    .GetOrCreate();\n",
        ""
      ],
      "outputs": []
    },
    {
      "cell_type": "code",
      "execution_count": 1,
      "metadata": {
        "dotnet_interactive": {
          "language": "csharp"
        }
      },
      "source": [
        "DataFrame dataFrame = spark\n",
        "    .Range(0, rows)\n",
        "    .Select(Rand().Multiply(2).Minus(1).As(\"x\"), Rand().Multiply(2).Minus(1).As(\"y\"))\n",
        "    .Select(\n",
        "        When(\n",
        "            Col(\"x\").Multiply(Col(\"x\")).Plus(Col(\"y\").Multiply(Col(\"y\"))).Leq(1), 1\n",
        "        )\n",
        "        .Otherwise(0)\n",
        "        .As(\"InCircle\"))\n",
        "    .Agg(Sum(Col(\"InCircle\")).As(\"t\"))\n",
        "    .Select(Col(\"t\").Multiply(4).Divide(rows).As(\"P1\"))\n",
        "    ;"
      ],
      "outputs": []
    },
    {
      "cell_type": "code",
      "execution_count": 1,
      "metadata": {
        "dotnet_interactive": {
          "language": "csharp"
        }
      },
      "source": [
        "var start = DateTime.Now;\n",
        "\n",
        "dataFrame.Show();\n",
        "\n",
        "var stop = DateTime.Now;\n",
        "Console.WriteLine($\"Total Seconds: {(stop-start).TotalSeconds}\");"
      ],
      "outputs": []
    },
    {
      "cell_type": "code",
      "execution_count": 1,
      "metadata": {
        "dotnet_interactive": {
          "language": "csharp"
        }
      },
      "source": [
        "dataFrame.Head()[0];"
      ],
      "outputs": []
    },
    {
      "cell_type": "code",
      "execution_count": 1,
      "metadata": {
        "dotnet_interactive": {
          "language": "csharp"
        }
      },
      "source": [
        "// Stop Spark session\n",
        "spark.Stop();"
      ],
      "outputs": []
    }
  ],
  "metadata": {
    "kernelspec": {
      "display_name": ".NET (C#)",
      "language": "C#",
      "name": ".net-csharp"
    },
    "language_info": {
      "file_extension": ".cs",
      "mimetype": "text/x-csharp",
      "name": "C#",
      "pygments_lexer": "csharp",
      "version": "8.0"
    }
  },
  "nbformat": 4,
  "nbformat_minor": 4
}