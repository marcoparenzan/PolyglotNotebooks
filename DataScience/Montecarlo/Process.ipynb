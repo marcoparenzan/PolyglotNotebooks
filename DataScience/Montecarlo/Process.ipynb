{
 "cells": [
  {
   "cell_type": "code",
   "execution_count": 1,
   "metadata": {
    "dotnet_interactive": {
     "language": "csharp"
    }
   },
   "outputs": [
    {
     "data": {
      "text/html": [
       "<div><div></div><div></div><div><strong>Installed Packages</strong><ul><li><span>Microsoft.Spark, 2.1.1</span></li></ul></div></div>"
      ]
     },
     "metadata": {},
     "output_type": "display_data"
    },
    {
     "data": {
      "text/plain": [
       "Loading extensions from `C:\\Users\\marco\\.nuget\\packages\\microsoft.data.analysis\\0.18.0\\interactive-extensions\\dotnet\\Microsoft.Data.Analysis.Interactive.dll`"
      ]
     },
     "metadata": {},
     "output_type": "display_data"
    }
   ],
   "source": [
    "#r \"nuget:Microsoft.Spark\""
   ]
  },
  {
   "cell_type": "code",
   "execution_count": 2,
   "metadata": {
    "dotnet_interactive": {
     "language": "csharp"
    }
   },
   "outputs": [],
   "source": [
    "using System;\n",
    "using System.IO;\n",
    "using Microsoft.Spark;\n",
    "using Microsoft.Spark.Sql;\n",
    "using static Microsoft.Spark.Sql.Functions;"
   ]
  },
  {
   "cell_type": "code",
   "execution_count": 3,
   "metadata": {
    "dotnet_interactive": {
     "language": "csharp"
    }
   },
   "outputs": [],
   "source": [
    "long rows = 1_000_000_000;"
   ]
  },
  {
   "cell_type": "code",
   "execution_count": 4,
   "metadata": {
    "dotnet_interactive": {
     "language": "csharp"
    }
   },
   "outputs": [
    {
     "name": "stdout",
     "output_type": "stream",
     "text": [
      "[2023-02-08T23:42:06.4213273Z] [DESKTOP-KAD9IHR] [Info] [ConfigurationService] 'DOTNETBACKEND_PORT' environment variable is not set.\n",
      "[2023-02-08T23:42:06.4235891Z] [DESKTOP-KAD9IHR] [Info] [ConfigurationService] Using port 5567 for connection.\n",
      "[2023-02-08T23:42:06.4242871Z] [DESKTOP-KAD9IHR] [Info] [JvmBridge] JvMBridge port is 5567\n",
      "[2023-02-08T23:42:06.4253445Z] [DESKTOP-KAD9IHR] [Info] [JvmBridge] The number of JVM backend thread is set to 10. The max number of concurrent sockets in JvmBridge is set to 7.\n"
     ]
    }
   ],
   "source": [
    "// Create a Spark session\n",
    "SparkSession spark = SparkSession\n",
    "    .Builder()\n",
    "    .AppName(\"montecarlo\")\n",
    "    .GetOrCreate();\n"
   ]
  },
  {
   "cell_type": "code",
   "execution_count": 5,
   "metadata": {
    "dotnet_interactive": {
     "language": "csharp"
    }
   },
   "outputs": [],
   "source": [
    "DataFrame dataFrame = spark\n",
    "    .Range(0, rows)\n",
    "    .Select(Rand().Multiply(2).Minus(1).As(\"x\"), Rand().Multiply(2).Minus(1).As(\"y\"))\n",
    "    .Select(\n",
    "        When(\n",
    "            Col(\"x\").Multiply(Col(\"x\")).Plus(Col(\"y\").Multiply(Col(\"y\"))).Leq(1), 1\n",
    "        )\n",
    "        .Otherwise(0)\n",
    "        .As(\"InCircle\"))\n",
    "    .Agg(Sum(Col(\"InCircle\")).As(\"t\"))\n",
    "    .Select(Col(\"t\").Multiply(4).Divide(rows).As(\"P1\"))\n",
    "    ;"
   ]
  },
  {
   "cell_type": "code",
   "execution_count": 6,
   "metadata": {
    "dotnet_interactive": {
     "language": "csharp"
    }
   },
   "outputs": [
    {
     "name": "stdout",
     "output_type": "stream",
     "text": [
      "+-----------+\n",
      "|         P1|\n",
      "+-----------+\n",
      "|3.141555136|\n",
      "+-----------+\n",
      "\n",
      "Total Seconds: 16,0582492\n"
     ]
    }
   ],
   "source": [
    "var start = DateTime.Now;\n",
    "\n",
    "dataFrame.Show();\n",
    "\n",
    "var stop = DateTime.Now;\n",
    "Console.WriteLine($\"Total Seconds: {(stop-start).TotalSeconds}\");"
   ]
  },
  {
   "cell_type": "code",
   "execution_count": 7,
   "metadata": {
    "dotnet_interactive": {
     "language": "csharp"
    }
   },
   "outputs": [],
   "source": [
    "// Stop Spark session\n",
    "spark.Stop();"
   ]
  },
  {
   "cell_type": "code",
   "execution_count": null,
   "metadata": {
    "dotnet_interactive": {
     "language": "csharp"
    },
    "polyglot_notebook": {
     "kernelName": "csharp"
    }
   },
   "outputs": [],
   "source": []
  },
  {
   "cell_type": "code",
   "execution_count": null,
   "metadata": {
    "dotnet_interactive": {
     "language": "csharp"
    },
    "polyglot_notebook": {
     "kernelName": "csharp"
    }
   },
   "outputs": [],
   "source": []
  }
 ],
 "metadata": {
  "kernelspec": {
   "display_name": ".NET (C#)",
   "language": "C#",
   "name": ".net-csharp"
  },
  "polyglot_notebook": {
   "kernelInfo": {
    "defaultKernelName": "csharp",
    "items": [
     {
      "aliases": [
       "c#",
       "C#"
      ],
      "languageName": "C#",
      "name": "csharp"
     },
     {
      "aliases": [],
      "name": ".NET"
     },
     {
      "aliases": [
       "f#",
       "F#"
      ],
      "languageName": "F#",
      "name": "fsharp"
     },
     {
      "aliases": [],
      "languageName": "HTML",
      "name": "html"
     },
     {
      "aliases": [],
      "languageName": "KQL",
      "name": "kql"
     },
     {
      "aliases": [],
      "languageName": "Mermaid",
      "name": "mermaid"
     },
     {
      "aliases": [
       "powershell"
      ],
      "languageName": "PowerShell",
      "name": "pwsh"
     },
     {
      "aliases": [],
      "languageName": "SQL",
      "name": "sql"
     },
     {
      "aliases": [],
      "name": "value"
     },
     {
      "aliases": [
       "frontend"
      ],
      "name": "vscode"
     }
    ]
   }
  }
 },
 "nbformat": 4,
 "nbformat_minor": 2
}
