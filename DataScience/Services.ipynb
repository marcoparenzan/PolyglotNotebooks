{
 "cells": [
  {
   "cell_type": "code",
   "execution_count": 1,
   "metadata": {
    "dotnet_interactive": {
     "language": "csharp"
    },
    "polyglot_notebook": {
     "kernelName": "csharp"
    }
   },
   "outputs": [
    {
     "ename": "Error",
     "evalue": "(2,12): error CS1002: ; expected\r\n(2,18): error CS1002: ; expected\r\n(2,22): error CS1002: ; expected\r\n(2,22): error CS7017: Member definition, statement, or end-of-file expected\r\n(2,31): error CS1002: ; expected\r\n(2,35): error CS1002: ; expected\r\n(2,35): error CS7017: Member definition, statement, or end-of-file expected\r\n(2,44): error CS1002: ; expected\r\n(2,48): error CS1002: ; expected\r\n(2,48): error CS7017: Member definition, statement, or end-of-file expected\r\n(2,57): error CS1002: ; expected\r\n(2,61): error CS1002: ; expected\r\n(2,61): error CS7017: Member definition, statement, or end-of-file expected\r\n(2,68): error CS1002: ; expected\r\n(2,69): error CS1002: ; expected\r\n(2,87): error CS1002: ; expected\r\n(2,87): error CS7017: Member definition, statement, or end-of-file expected",
     "output_type": "error",
     "traceback": [
      "(2,12): error CS1002: ; expected\r\n",
      "(2,18): error CS1002: ; expected\r\n",
      "(2,22): error CS1002: ; expected\r\n",
      "(2,22): error CS7017: Member definition, statement, or end-of-file expected\r\n",
      "(2,31): error CS1002: ; expected\r\n",
      "(2,35): error CS1002: ; expected\r\n",
      "(2,35): error CS7017: Member definition, statement, or end-of-file expected\r\n",
      "(2,44): error CS1002: ; expected\r\n",
      "(2,48): error CS1002: ; expected\r\n",
      "(2,48): error CS7017: Member definition, statement, or end-of-file expected\r\n",
      "(2,57): error CS1002: ; expected\r\n",
      "(2,61): error CS1002: ; expected\r\n",
      "(2,61): error CS7017: Member definition, statement, or end-of-file expected\r\n",
      "(2,68): error CS1002: ; expected\r\n",
      "(2,69): error CS1002: ; expected\r\n",
      "(2,87): error CS1002: ; expected\r\n",
      "(2,87): error CS7017: Member definition, statement, or end-of-file expected"
     ]
    }
   ],
   "source": [
    "docker run -d -p 8080:8080 -p 8081:8081 -p 5567:5567 -p 4040:4040  3rdman/dotnet-spark:latest"
   ]
  },
  {
   "cell_type": "code",
   "execution_count": null,
   "metadata": {
    "dotnet_interactive": {
     "language": "csharp"
    },
    "polyglot_notebook": {
     "kernelName": "csharp"
    }
   },
   "outputs": [],
   "source": [
    "ls WordCount/input\n"
   ]
  },
  {
   "cell_type": "code",
   "execution_count": null,
   "metadata": {
    "dotnet_interactive": {
     "language": "csharp"
    },
    "polyglot_notebook": {
     "kernelName": "csharp"
    }
   },
   "outputs": [],
   "source": []
  },
  {
   "cell_type": "code",
   "execution_count": null,
   "metadata": {
    "dotnet_interactive": {
     "language": "csharp"
    },
    "polyglot_notebook": {
     "kernelName": "csharp"
    }
   },
   "outputs": [],
   "source": []
  }
 ],
 "metadata": {
  "kernelspec": {
   "display_name": ".NET (C#)",
   "language": "C#",
   "name": ".net-csharp"
  },
  "polyglot_notebook": {
   "kernelInfo": {
    "defaultKernelName": "csharp",
    "items": [
     {
      "aliases": [
       "c#",
       "C#"
      ],
      "languageName": "C#",
      "name": "csharp"
     },
     {
      "aliases": [],
      "name": ".NET"
     },
     {
      "aliases": [
       "f#",
       "F#"
      ],
      "languageName": "F#",
      "name": "fsharp"
     },
     {
      "aliases": [],
      "languageName": "HTML",
      "name": "html"
     },
     {
      "aliases": [],
      "languageName": "KQL",
      "name": "kql"
     },
     {
      "aliases": [],
      "languageName": "Mermaid",
      "name": "mermaid"
     },
     {
      "aliases": [
       "powershell"
      ],
      "languageName": "PowerShell",
      "name": "pwsh"
     },
     {
      "aliases": [],
      "languageName": "SQL",
      "name": "sql"
     },
     {
      "aliases": [],
      "name": "value"
     },
     {
      "aliases": [
       "frontend"
      ],
      "name": "vscode"
     }
    ]
   }
  }
 },
 "nbformat": 4,
 "nbformat_minor": 2
}
