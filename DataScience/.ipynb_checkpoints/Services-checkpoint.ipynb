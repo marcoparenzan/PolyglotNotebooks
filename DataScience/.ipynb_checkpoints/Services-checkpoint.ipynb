{
 "cells": [
  {
   "cell_type": "code",
   "execution_count": 4,
   "metadata": {},
   "outputs": [
    {
     "name": "stdout",
     "output_type": "stream",
     "text": [
      "4807f3145e5b5780320d6f73008875472d0fb77241f2e38602b252bfdc067359\n"
     ]
    }
   ],
   "source": [
    "#!pwsh\n",
    "docker run -d -p 8080:8080 -p 8081:8081 -p 5567:5567 -p 4040:4040 -v D:\\repos\\DotNetInteractive\\DataScience:/dotnet/Debug/netcoreapp3.1 3rdman/dotnet-spark:latest"
   ]
  },
  {
   "cell_type": "code",
   "execution_count": null,
   "metadata": {},
   "outputs": [],
   "source": []
  }
 ],
 "metadata": {
  "kernelspec": {
   "display_name": ".NET (C#)",
   "language": "C#",
   "name": ".net-csharp"
  },
  "language_info": {
   "file_extension": ".cs",
   "mimetype": "text/x-csharp",
   "name": "C#",
   "pygments_lexer": "csharp",
   "version": "8.0"
  }
 },
 "nbformat": 4,
 "nbformat_minor": 4
}
